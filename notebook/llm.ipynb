{
 "cells": [
  {
   "cell_type": "code",
   "execution_count": null,
   "metadata": {},
   "outputs": [],
   "source": [
    "import pymupdf4llm\n",
    "import json\n",
    "import pandas as pd\n",
    "import openai\n",
    "import os\n",
    "from loguru import logger\n",
    "\n",
    "import psycopg2\n",
    "from pgvector.psycopg2 import register_vector\n",
    "import numpy as np\n",
    "from psycopg2.extras import execute_values\n",
    "import numpy as np\n",
    "from dotenv import load_dotenv\n",
    "load_dotenv()"
   ]
  },
  {
   "cell_type": "markdown",
   "metadata": {},
   "source": [
    "# Read Resume"
   ]
  },
  {
   "cell_type": "code",
   "execution_count": 2,
   "metadata": {},
   "outputs": [
    {
     "name": "stdout",
     "output_type": "stream",
     "text": [
      "Processing matinsajadi.pdf...\n",
      "[                                        ] (0/2===================[====================                    ] (1/2===================[========================================] (2/2]\n",
      "# MATIN SAJADI\n",
      "\n",
      "## Machine Learning Engineer\n",
      "\n",
      "##### 09103323226 09103323226 Yazd, Ardakan\n",
      "\n",
      " emtinsajadi79@gmail.com matinsajadi\n",
      "\n",
      "\n",
      "## HIGHLIGHTS\n",
      "\n",
      " I am a c omputer engineering graduate with the ability to solve complex challenges and a high motivation to create innovative solutions in the field of artificial intelligence.\n",
      "\n",
      "#### Payam Noor University Yazd, Iran\n",
      "\n",
      "## Computer Vision\n",
      "\n",
      "\n",
      "### Yazd, Ardakan\n",
      "\n",
      " Working on projects focusing on machine learning, deep learning, neural networks, and natural language processing activities. matinsajadii\n",
      "\n",
      " matinsajadi Large Language Models Computer Vision\n",
      "\n",
      "## EDUCATION\n",
      "\n",
      "### Bachelor of Software Engineering\n",
      "\n",
      "#### Working on projects focusing on machine learning, deep learning, neural networks, and natural language processing activities.\n",
      "\n",
      "### Proficient in Python and experienced in using TensorFlow a nd PyTorch.\n",
      " Developed and deployed advanced Natural Language Processing (NLP) and Computer Vision models, contributing to project success. Natural Language Processing\n",
      "\n",
      " Large Language Models\n",
      "\n",
      "\n",
      "-----\n",
      "\n",
      "## Advanced Programming\n",
      "\n",
      "\n",
      "###### This project demonstrates proficiency in the field of deep learning and the ability to execute diverse projects related to image and facial recognition.\n",
      "\n",
      "Objective: Enhancing the accuracy of mask detection by applying transfer learning on the dataset.\n",
      "\n",
      "Programming: Python, C, C++, Java\n",
      "1. Frameworks: PyTorch, Tensorflow, OpenCV\n",
      "\n",
      "2. NLP: NLTK, Transformers\n",
      "\n",
      "3. Additional Expertise: Deep Learning, Computer Vision, Data Scientist, Data Analyst, Data Mining\n",
      "\n",
      "4. Tools and Technologies: Git, PostgreSQL, Linux\n",
      "\n",
      "5. Emotion Detection: Implementation and training of a model to detect emotions through facial analysis.\n",
      "\n",
      "Python ProgrammingPython Programming (DataCamp)\n",
      "\n",
      "Python FundamentalsPython Fundamentals (DataCamp)\n",
      "SQL FundamentalsSQL Fundamentals (DataCamp)\n",
      "Importing & Cleaning Data with PythonImporting & Cleaning Data with Python (DataCamp)\n",
      "\n",
      "Data Visualization with PythonData Visualization with Python (DataCamp)\n",
      "\n",
      "Data Analyst with PythonData Analyst with Python (DataCamp)\n",
      "Data Manipulation with Python Data Manipulation with Python (DataCamp)\n",
      "\n",
      "This project demonstrates proficiency in the field of deep learning and the ability to execute diverse projects related to image and facial\n",
      "recognition.\n",
      "\n",
      "###### Recommender System\n",
      "\n",
      "Objective: Developing a recommender system using online retail data and a clustering algorithm.\n",
      "\n",
      "Project Description:\n",
      "\n",
      "Clustering Algorithm: Utilizing a clustering algorithm to categorize products based on user purchasing patterns.\n",
      "Product Recommendations by Clusters: Identifying groups of products with the highest sales and providing recommendations to users who have not\n",
      "purchased products from these groups.\n",
      "\n",
      "Results and Impact:\n",
      "\n",
      "Improving user shopping experience through targeted recommendations.\n",
      "Increasing sales in product groups using the recommender system.\n",
      "\n",
      "Technologies and Tools:\n",
      "\n",
      "Employing a clustering algorithm for analyzing online retail data.\n",
      "Implementation of the system using suitable languages and tools for data processing and recommendation.\n",
      "\n",
      "This project demonstrates the ability to analyze online retail data and create a recommender system based on user purchasing behavior.\n",
      "\n",
      "\n",
      "## SKILLS Programming: Python, C, C++, Java\n",
      "### Objective: Enhancing the accuracy of mask detection by applying transfer learning on the dataset. Responsibilities and Achievements:  Transfer Learning: Implementing transfer learning techni ques on the mask detection dataset.  Face-Based Mask Detection: Training the model to detect the presence or absence of masks with a focus on facial features.\n",
      "\n",
      "##  Approximate Age Detection: Adding the capability to estimate the approximate age of individuals based on facial features.  Gender Recognition: Training the model to recognize gender with an emphasis on analyzing facial characteristics.\n",
      "#####  Emotion Detection: Implementation and training of a model to detect emotions through facial analysis. Technologies and Tools: Utilizing pre-trained models to improve accuracy.\n",
      "\n",
      " Programming Language: Python. Key deep learning libraries such as TensorFlow and Keras. Results:\n",
      "\n",
      "## Achieve Increased accuracy in mask detection through the application of Transfer Learning. d capabilities in age estimation, gender recognition, and emotion detection based on facial analysis.\n",
      "\n",
      "\n",
      "-----\n",
      "\n",
      "\n"
     ]
    }
   ],
   "source": [
    "md_text = pymupdf4llm.to_markdown(\"matinsajadi.pdf\")\n",
    "print(md_text)"
   ]
  },
  {
   "cell_type": "code",
   "execution_count": 3,
   "metadata": {},
   "outputs": [
    {
     "data": {
      "text/plain": [
       "4340"
      ]
     },
     "execution_count": 3,
     "metadata": {},
     "output_type": "execute_result"
    }
   ],
   "source": [
    "import pathlib\n",
    "\n",
    "output_file = pathlib.Path(\"output.md\")\n",
    "output_file.write_bytes(md_text.encode())"
   ]
  },
  {
   "cell_type": "markdown",
   "metadata": {},
   "source": [
    "# LLM"
   ]
  },
  {
   "cell_type": "code",
   "execution_count": 15,
   "metadata": {},
   "outputs": [],
   "source": [
    "connection = psycopg2.connect(\n",
    "    dbname=\"postgres\",\n",
    "    user=\"postgres\",\n",
    "    password=\"mypass\",\n",
    "    host=\"localhost\",  # or the database server IP address\n",
    "    port=\"5432\"        # default port for PostgreSQL\n",
    ")"
   ]
  },
  {
   "cell_type": "code",
   "execution_count": 16,
   "metadata": {},
   "outputs": [],
   "source": [
    "# Helper function: get embeddings for a text\n",
    "def get_embeddings(text):\n",
    "    response = openai.Embedding.create(\n",
    "        model=\"text-embedding-ada-002\",\n",
    "        input = text.replace(\"\\n\",\" \")\n",
    "    )\n",
    "    embedding = response['data'][0]['embedding']\n",
    "    return embedding"
   ]
  },
  {
   "cell_type": "markdown",
   "metadata": {},
   "source": [
    "# Connect To Postgres And Retrive Top 3 Similar Jobs"
   ]
  },
  {
   "cell_type": "code",
   "execution_count": 17,
   "metadata": {},
   "outputs": [],
   "source": [
    "#Helper function: Get top 3 most similar documents from the database\n",
    "def get_top3_similar_docs(query, conn):\n",
    "    query_embedding = get_embeddings(query)\n",
    "    embedding_array = np.array(query_embedding)\n",
    "    # Register pgvector extension\n",
    "    register_vector(conn)\n",
    "    cur = conn.cursor()\n",
    "    # Get the top 3 most similar documents using the KNN <=> operator\n",
    "    cur.execute(\"SELECT * FROM embeddings ORDER BY embedding <=> %s LIMIT 3\", (embedding_array,))\n",
    "    top3_docs = cur.fetchall()\n",
    "    return top3_docs"
   ]
  },
  {
   "cell_type": "code",
   "execution_count": 18,
   "metadata": {},
   "outputs": [],
   "source": [
    "query = f\"{md_text}\""
   ]
  },
  {
   "cell_type": "code",
   "execution_count": 19,
   "metadata": {},
   "outputs": [],
   "source": [
    "connection.commit()"
   ]
  },
  {
   "cell_type": "code",
   "execution_count": 20,
   "metadata": {},
   "outputs": [
    {
     "data": {
      "text/plain": [
       "[(35,\n",
       "  'indeed',\n",
       "  'https://www.indeed.com/viewjob?jk=8bc2d8079acba213',\n",
       "  'Senior Software Engineer',\n",
       "  'Microsoft',\n",
       "  'Mountain View, CA, US',\n",
       "  '2024-11-11',\n",
       "  'yearly',\n",
       "  117200.0,\n",
       "  250200.0,\n",
       "  'USD',\n",
       "  'true',\n",
       "  \"The Artificial Intelligence (AI) Frameworks team at Microsoft develops AI software that enables running AI models everywhere, from world’s fastest AI supercomputers, to servers, desktops, mobile phones, IoT devices and internet browsers. We collaborate with our hardware teams and partners, both internal and external, and operate at the intersection of AI algorithmic innovation, purpose\\\\-built AI hardware, systems, and software. We are a team of highly capable and motivated people that pride themselves on a collaborative and inclusive culture.  \\n\\nWe own inference performance of OpenAI and other state of the art Large Language Models (LLMs) and work directly with OpenAI on the models hosted on the Azure OpenAI service serving some of the largest workloads on the planet with trillions of inferences per day in major Microsoft products, including Office, Windows, Bing, SQL Server, and Dynamics.  \\n\\nAs a Senior Software Engineer on the team, you will have the opportunity to work on multiple levels of the AI software stack, including the fundamental abstractions, programming models, compilers, runtimes, libraries and APIs to enable large scale training and inferencing of models. You will benchmark OpenAI and other LLMs for performance on GPUs and Microsoft HW, debug and optimize performance, monitor performance and enable these models to be deployed in the shortest amount of time and the least amount of HW possible helping achieve Microsoft Azure's capex goals.  \\n\\nThis is a hands\\\\-on technical role requiring software design and development skills. We’re looking for someone who has a demonstrated history of solving technical problems and is motivated to tackle the hardest problems in building a full end\\\\-to\\\\-end AI stack. An entrepreneurial approach and ability to take initiative and move fast are essential.  \\n\\nMicrosoft’s mission is to empower every person and every organization on the planet to achieve more. As employees we come together with a growth mindset, innovate to empower others, and collaborate to realize our shared goals. Each day we build on our values of respect, integrity, and accountability to create a culture of inclusion where everyone can thrive at work and beyond.  \\n\\nBy applying to this position, location is flexible and remote work is possible.  \\n\\nRelocation assistance is unavailable for this role.**Responsibilities**\\n--------------------\\n\\n\\nAs a Senior Software Engineer on the team the common tasks of the job would include, but not be limited to:* Identify and drive improvements to end\\\\-to\\\\-end inference performance of OpenAI and other state of the art LLMs\\n* Measure, benchmark performance on Nvidia/AMD GPU's and first party Microsoft silicon\\n* Optimize and monitor performance of LLMs and build SW tooling to enable insights into performance opportunities ranging from the model level to the systems and silicon level, help reduce the footprint of the computing fleet and achieve Azure AI capex goals\\n* Enable fast time to market of LLMs/models and their deployments at scale by building SW tools that afford velocity in porting models on new Nvidia, AMD GPUs and Maia silicon\\n* Design, implement, and test functions or components for our AI/DNN/LLM frameworks and tools\\n* Speeding up/reducing complexity of key components/pipelines to improve performance and/or efficiency of our systems\\n* Communicate and collaborate with our partners both internal and external\\n* Embody our Culture and Values\\n\\n**Qualifications**\\n------------------\\n\\n**Required Qualifications*** Bachelor's Degree in Computer Science or related technical field AND 4\\\\+ years technical engineering experience with coding in languages including, but not limited to C, C\\\\+\\\\+, or Python\\n\\t+ OR equivalent experience.\\n* 2\\\\+ years’ practical experience working on high performance applications and performance debug and optimization on CPU's/GPU's.\\n\\n**Other Requirements*** Ability to meet Microsoft, customer and/or government security screening requirements are required for this role. These requirements include, but are not limited to the following specialized security screenings:\\n\\t+ Microsoft Cloud Background Check:This position will be required to pass the Microsoft Cloud background check upon hire/transfer and every two years thereafter.\\n\\n**Preferred Qualifications*** Technical background and solid foundation in software engineering principles, computer architecture, GPU architecture, HW neural net acceleration.\\n* Experience in end\\\\-to\\\\-end performance analysis and optimization of state of the art LLMs, HPC applications including proficiency using GPU profiling tools.\\n* Experience in DNN/LLM inference and experience in one or more DL frameworks such as PyTorch, Tensorflow, or ONNX Runtime and familiarity with CUDA, ROCm, Triton.\\n* Cross\\\\-team collaboration skills and the desire to collaborate in a team of researchers and developers.\\n* Software Engineering IC4 \\\\- The typical base pay range for this role across the U.S. is USD $117,200 \\\\- $229,200 per year. There is a different range applicable to specific work locations, within the San Francisco Bay area and New York City metropolitan area, and the base pay range for this role in those locations is USD $153,600 \\\\- $250,200 per year.  \\n\\n  \\n\\nCertain roles may be eligible for benefits and other compensation. Find additional benefits and pay information here: https://careers.microsoft.com/us/en/us\\\\-corporate\\\\-pay  \\n\\n  \\n\\nMicrosoft will accept applications and processes offers for these roles on an ongoing basis.\\n\\n  \\n\\n\\\\#aiplatform \\\\#opensource \\\\#SWE24 \\\\#SHPE24MSFT\\nMicrosoft is an equal opportunity employer. Consistent with applicable law, all qualified applicants will receive consideration for employment without regard to age, ancestry, citizenship, color, family or medical care leave, gender identity or expression, genetic information, immigration status, marital status, medical condition, national origin, physical or mental disability, political affiliation, protected veteran or military status, race, ethnicity, religion, sex (including pregnancy), sexual orientation, or any other characteristic protected by applicable local laws, regulations and ordinances. If you need assistance and/or a reasonable accommodation due to a disability during the application process, read more about requesting accommodations.\",\n",
       "  'https://www.indeed.com/cmp/Microsoft',\n",
       "  'https://d2q79iu7y748jz.cloudfront.net/s/_squarelogo/256x256/88813b3f866a5b58c9685073e3b87e05',\n",
       "  array([-0.0032665 , -0.01356461, -0.02018982, ..., -0.02630961,\n",
       "         -0.0339047 , -0.00741068], dtype=float32)),\n",
       " (16,\n",
       "  'glassdoor',\n",
       "  'https://www.glassdoor.com/job-listing/j?jl=1009523488372',\n",
       "  'Senior Software Engineer - LLM Inference',\n",
       "  'CentML',\n",
       "  'San Francisco, CA',\n",
       "  '2024-11-12',\n",
       "  'yearly',\n",
       "  107879.0,\n",
       "  199533.0,\n",
       "  'USD',\n",
       "  'false',\n",
       "  \"**About Us**\\nWe believe AI will fundamentally transform how people live and work. CentML's mission is to massively reduce the cost of developing and deploying ML models so we can enable anyone to harness the power of AI and everyone to benefit from its potential.  \\n\\nOur founding team is made up of experts in AI, compilers, and ML hardware and has led efforts at companies like Amazon, Google, Microsoft Research, Nvidia, Intel, Qualcomm, and IBM. Our co\\\\-founder and CEO, Gennady Pekhimenko, is a world\\\\-renowned expert in ML systems who holds multiple academic and industry research awards from Google, Amazon, Facebook, and VMware. **About the Position:**\\nAs a member of the LLM inference team, you will help build state\\\\-of\\\\-the\\\\-art software with the goal of enabling LLM inference to become more efficient, scalable, and accessible. Are you interested in architecting and implementing the best inference stacks in the LLM world? Work and collaborate with a diverse set of teams involving resource orchestration, distributed systems, inference engine optimization, and writing high\\\\-performance GPU kernels.  \\n\\nCome join our team and contribute towards democratizing Machine Learning for the world!\\n### **Responsibilities:**\\n\\n* Write safe, scalable, modular, and high\\\\-quality (C\\\\+\\\\+/Python) code for our core backend software.\\n* Perform benchmarking, profiling, and system\\\\-level programming for GPU applications.\\n* Provide code reviews, design docs, and tutorials to facilitate collaboration among the team.\\n* Conduct unit tests and performance tests for different stages of the inference pipeline.\\n\\n### **Who you are:**\\n\\n* Bachelor's degree in Computer Science, Computer Engineering, relevant technical field, or equivalent practical experience.\\n* Strong coding skills in Python and C/C\\\\+\\\\+.\\n* 5\\\\+ years of industry experience in software engineering.\\n* Knowledgeable and passionate about machine learning and performance engineering.\\n\\n### **Nice to haves:**\\n\\n* Solid fundamentals in machine learning and deep learning.\\n* Solid fundamentals in operating systems, computer architecture, and parallel programming.\\n* Research experience in systems or machine learning.\\n* Industry experience in building enterprise\\\\-scale large distributed systems.\\n* Experience with training, deploying, or optimizing the inference of LLMs in production is a plus.\\n* Experience with performance modeling, profiling, debugging, and code optimization or architectural knowledge of CPU and GPU is a plus.\\n\\n**We strongly encourage you to include sample projects (e.g. Github) that demonstrate the qualifications above.** **For recent graduates, you can optionally submit your unofficial transcripts.** **Benefits \\\\& Perks*** An open and inclusive work environment\\n* Employee stock options\\n* Best\\\\-in\\\\-class medical and dental benefits\\n* Parental Leave top\\\\-up for 6 months\\n* Professional development budget\\n* Flexible vacation time to promote a healthy work\\\\-life blend\\n\\n  \\n\\nWe are an equal opportunity employer and value diversity at our company. We do not discriminate on the basis of race, religion, color, national origin, gender, sexual orientation, age, marital status, veteran status, disability, and any other protected ground of discrimination under applicable human rights legislation.  \\n\\nCentML strives to respect the dignity and \\u200e\\u200eindependence of people with disabilities and is committed to giving them the same \\u200e\\u200eopportunity to succeed as all other employees.  \\n\\nInclusiveness is core to our culture at CentML, and we strive to ensure you get the most from your interview experience. CentML makes reasonable accommodations for applicants with disabilities. If a reasonable accommodation is needed to participate in the job application or interview process, please reach out to the Talent team.\",\n",
       "  'https://www.glassdoor.com/Overview/W-EI_IE7569156.htm',\n",
       "  'https://media.glassdoor.com/sql/7569156/centml-squareLogo-1705607879776.png',\n",
       "  array([-0.00496984,  0.01813482, -0.00238996, ..., -0.00246206,\n",
       "         -0.03700122, -0.01167719], dtype=float32)),\n",
       " (11,\n",
       "  'glassdoor',\n",
       "  'https://www.glassdoor.com/job-listing/j?jl=1009523488380',\n",
       "  'Software Engineer, Tools and Infrastructure',\n",
       "  'CentML',\n",
       "  'San Francisco, CA',\n",
       "  '2024-11-12',\n",
       "  'yearly',\n",
       "  81549.0,\n",
       "  151858.0,\n",
       "  'USD',\n",
       "  'false',\n",
       "  \"**About Us**\\nWe believe AI will fundamentally transform how people live and work. CentML's mission is to massively reduce the cost of developing and deploying ML models so we can enable anyone to harness the power of AI and everyone to benefit from its potential.  \\n\\nOur founding team is made up of experts in AI, compilers, and ML hardware and has led efforts at companies like Amazon, Google, Microsoft Research, Nvidia, Intel, Qualcomm, and IBM. Our co\\\\-founder and CEO, Gennady Pekhimenko, is a world\\\\-renowned expert in ML systems who holds multiple academic and industry research awards from Google, Amazon, Facebook, and VMware. **About the Position**\\nAs a Software Engineer, Tools and Infrastructure, you will play a pivotal role in shaping the infrastructure and development practices at CentML. You will be responsible for working on complex projects and collaborating with cross\\\\-functional teams to ensure our systems meet the highest standards of reliability performance, and security. We’re looking for a Software Engineer, Tools, and Infrastructure, with a strategic focus on performance optimization and testing.\\n### **What you'll do**\\n\\n* Build distributed machine learning systems that deliver state\\\\-of\\\\-the\\\\-art performance, high availability and robust fault tolerance.\\n* Develop tools, infrastructure, automation, and configuration management to set up and execute performance tests, to record the testing results, and to perform and visualize analyses on the results.\\n* Automate and optimize the functionality and performance testing workflows, improve the performance and scalability of those workflows, and identify and address bottlenecks before they impact our engineers.\\n* Design and set up CI/CD pipelines for continuous code testing, integration and development.\\n* Participate in incident response efforts, including real\\\\-time troubleshooting, root cause analysis, and postmortem reviews.\\n* Develop and maintain comprehensive monitoring, alerting, and logging systems that provide deep visibility into system health and performance.\\n* Drive continuous improvement in system reliability, performance, and scalability through the adoption of new technologies, tools, and methodologies.\\n* Stay current with industry trends and innovations in DevOps, software tools, and ML infrastructure, bringing new ideas and approaches to the team.\\n\\n### **What you’ll need to be successful**\\n\\n* 3\\\\+ years of experience in tool/infrastructure engineering, , DevOps, or related roles with extensive experience in performance testing and managing large\\\\-scale infrastructure.\\n* Proven track record of building and operating highly reliable, scalable, and secure systems in a production environment.\\n* Deep expertise in CI workflows (e.g., GitHub Actions), cloud platforms (e.g., AWS, GCP, Azure), containerization (e.g., Docker, Kubernetes), and infrastructure\\\\-as\\\\-code (e.g., Pulumi).\\n* Advanced proficiency in scripting and automation using languages such as Python, Bash, or similar.\\n* Strong understanding of distributed systems, networking, and storage solutions, with the ability to architect complex systems from the ground up.\\n* Past experience working with ML frameworks (e.g., PyTorch), ML compilers (e.g., the Triton compiler), inference engine (e.g., vLLM), GPU programming (e.g., CUDA), as well as past working knowledge of ML/Deep Learning/Large Language Model algorithms and theories, are nice to have.\\n* Excellent problem\\\\-solving skills, with a proactive approach to identifying and resolving issues before they impact the business.\\n* Strong communication and collaboration skills, with the ability to work effectively across different teams and stakeholders.\\n* Ability to operate effectively in a fast\\\\-paced, dynamic startup environment, with a focus on delivering results.\\n\\n**Benefits \\\\& Perks*** An open and inclusive work environment\\n* Employee stock options\\n* Best\\\\-in\\\\-class medical and dental benefits\\n* Parental Leave top\\\\-up for 6 months\\n* Professional development budget\\n* Flexible vacation time to promote a healthy work\\\\-life blend\\n\\n  \\n\\nWe are an equal opportunity employer and value diversity at our company. We do not discriminate on the basis of race, religion, color, national origin, gender, sexual orientation, age, marital status, veteran status, disability, and any other protected ground of discrimination under applicable human rights legislation.  \\n\\nCentML strives to respect the dignity and \\u200e\\u200eindependence of people with disabilities and is committed to giving them the same \\u200e\\u200eopportunity to succeed as all other employees.  \\n\\nInclusiveness is core to our culture at CentML, and we strive to ensure you get the most from your interview experience. CentML makes reasonable accommodations for applicants with disabilities. If a reasonable accommodation is needed to participate in the job application or interview process, please reach out to the Talent team.\",\n",
       "  'https://www.glassdoor.com/Overview/W-EI_IE7569156.htm',\n",
       "  'https://media.glassdoor.com/sql/7569156/centml-squareLogo-1705607879776.png',\n",
       "  array([-0.01444388,  0.00082436,  0.00884826, ..., -0.00056335,\n",
       "         -0.04371756,  0.00050435], dtype=float32))]"
      ]
     },
     "execution_count": 20,
     "metadata": {},
     "output_type": "execute_result"
    }
   ],
   "source": [
    "get_top3_similar_docs(query=query, conn=connection)"
   ]
  },
  {
   "cell_type": "code",
   "execution_count": null,
   "metadata": {},
   "outputs": [],
   "source": []
  }
 ],
 "metadata": {
  "kernelspec": {
   "display_name": "recommend_job_prj",
   "language": "python",
   "name": "python3"
  },
  "language_info": {
   "codemirror_mode": {
    "name": "ipython",
    "version": 3
   },
   "file_extension": ".py",
   "mimetype": "text/x-python",
   "name": "python",
   "nbconvert_exporter": "python",
   "pygments_lexer": "ipython3",
   "version": "3.11.10"
  }
 },
 "nbformat": 4,
 "nbformat_minor": 2
}
