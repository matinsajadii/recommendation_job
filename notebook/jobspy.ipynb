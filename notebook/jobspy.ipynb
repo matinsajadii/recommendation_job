{
 "cells": [
  {
   "cell_type": "code",
   "execution_count": null,
   "metadata": {},
   "outputs": [],
   "source": [
    "import csv\n",
    "from jobspy import scrape_jobs\n",
    "\n",
    "# jobs = scrape_jobs(\n",
    "#     site_name=[\"indeed\", \"linkedin\", \"zip_recruiter\", \"glassdoor\"],\n",
    "#     search_term=\"software engineer\",\n",
    "#     location=\"Dallas, TX\",\n",
    "#     results_wanted=20,\n",
    "#     hours_old=72, # (only Linkedin/Indeed is hour specific, others round up to days old)\n",
    "#     country_indeed='USA',  # only needed for indeed / glassdoor\n",
    "#     # linkedin_fetch_description=True # get full description and direct job url for linkedin (slower)\n",
    "# )\n",
    "# print(f\"Found {len(jobs)} jobs\")\n",
    "# print(jobs.head())\n",
    "# jobs.to_csv(\"jobs.csv\", quoting=csv.QUOTE_NONNUMERIC, escapechar=\"\\\\\", index=False) # to_xlsx"
   ]
  },
  {
   "cell_type": "code",
   "execution_count": null,
   "metadata": {},
   "outputs": [],
   "source": [
    "import pandas as pd\n",
    "\n",
    "\n",
    "data = pd.read_csv(\"/mnt/c/Users/Green.PC/Documents/ASAMA/project/reflex-recommendation-job/notebook/jobs.csv\")\n",
    "data.head()"
   ]
  },
  {
   "cell_type": "code",
   "execution_count": null,
   "metadata": {},
   "outputs": [],
   "source": [
    "data.isna().sum()"
   ]
  },
  {
   "cell_type": "code",
   "execution_count": null,
   "metadata": {},
   "outputs": [],
   "source": [
    "# job_filter = jobs.loc[:, (jobs.isna().sum() / jobs.shape[0] < 0.25)]\n",
    "# job_filter.head()\n",
    "# job_filter.shape"
   ]
  },
  {
   "cell_type": "code",
   "execution_count": null,
   "metadata": {},
   "outputs": [],
   "source": [
    "# job_filter.T"
   ]
  },
  {
   "cell_type": "markdown",
   "metadata": {},
   "source": [
    "# Embeddings"
   ]
  },
  {
   "cell_type": "code",
   "execution_count": null,
   "metadata": {},
   "outputs": [],
   "source": [
    "import openai"
   ]
  },
  {
   "cell_type": "code",
   "execution_count": 13,
   "metadata": {},
   "outputs": [],
   "source": [
    "def get_embeddings(text):\n",
    "    if isinstance(text, str):  # Check if text is a string\n",
    "        response = openai.Embedding.create(\n",
    "            model=\"text-embedding-ada-002\",\n",
    "            input=text.replace(\"\\n\", \" \")\n",
    "        )\n",
    "        embedding = response['data'][0]['embedding']\n",
    "        return embedding\n",
    "    else:\n",
    "        return None "
   ]
  },
  {
   "cell_type": "markdown",
   "metadata": {},
   "source": [
    "# ETL"
   ]
  },
  {
   "cell_type": "code",
   "execution_count": null,
   "metadata": {},
   "outputs": [],
   "source": [
    "import json\n",
    "import pandas as pd\n",
    "import openai\n",
    "import os\n",
    "from loguru import logger\n",
    "\n",
    "import psycopg2\n",
    "from pgvector.psycopg2 import register_vector\n",
    "import numpy as np\n",
    "from psycopg2.extras import execute_values\n",
    "import numpy as np\n",
    "from dotenv import load_dotenv\n",
    "load_dotenv()"
   ]
  },
  {
   "cell_type": "code",
   "execution_count": 14,
   "metadata": {},
   "outputs": [],
   "source": [
    "def etl():\n",
    "    jobs = scrape_jobs(\n",
    "        site_name=[\"indeed\", \"linkedin\", \"zip_recruiter\", \"glassdoor\"],\n",
    "        search_term=\"software engineer\",\n",
    "        location=\"San Francisco\",\n",
    "        results_wanted=20,\n",
    "        hours_old=72, # (only Linkedin/Indeed is hour specific, others round up to days old)\n",
    "        country_indeed='USA',  # only needed for indeed / glassdoor\n",
    "        # linkedin_fetch_description=True # get full description and direct job url for linkedin (slower)\n",
    "    )\n",
    "\n",
    "    logger.info(f\"{jobs.shape}\")\n",
    "    \n",
    "\n",
    "    # Load\n",
    "    connection = psycopg2.connect(\n",
    "        dbname=\"postgres\",\n",
    "        user=\"postgres\",\n",
    "        password=\"mypass\",\n",
    "        host=\"localhost\",\n",
    "        port=\"5432\"\n",
    "    )\n",
    "    \n",
    "    cur = connection.cursor()\n",
    "    #install pgvector\n",
    "    cur.execute(\"CREATE EXTENSION IF NOT EXISTS vector\");\n",
    "    connection.commit()\n",
    "    \n",
    "    \n",
    "    register_vector(connection)\n",
    "    \n",
    "    # Create table to store embeddings and metadata\n",
    "    table_create_command = \"\"\"\n",
    "    CREATE TABLE IF NOT EXISTS embeddings (\n",
    "                id bigserial primary key, \n",
    "                site text,\n",
    "                job_url text,\n",
    "                title text,\n",
    "                company text,\n",
    "                location text,\n",
    "                date_posted text,\n",
    "                interval text,\n",
    "                min_amount double precision,\n",
    "                max_amount double precision,\n",
    "                currency text,\n",
    "                is_remote text,\n",
    "                description text,\n",
    "                company_url text,\n",
    "                company_logo text,\n",
    "                embedding vector(1536)\n",
    "                );\n",
    "                \"\"\"\n",
    "    cur.execute(table_create_command)\n",
    "    cur.close()\n",
    "    connection.commit()\n",
    "    \n",
    "    #Batch insert embeddings and metadata from dataframe into PostgreSQL database\n",
    "    register_vector(connection)\n",
    "    cur = connection.cursor()\n",
    "    # Prepare the list of tuples to insert\n",
    "    # Prepare the list of tuples to insert\n",
    "    \n",
    "    data_list = [\n",
    "        (\n",
    "            row['site'],\n",
    "            row['job_url'],\n",
    "            row['title'],\n",
    "            row['company'],\n",
    "            row['location'],\n",
    "            row['date_posted'],\n",
    "            row['interval'],\n",
    "            row['min_amount'],\n",
    "            row['max_amount'],\n",
    "            row['currency'],\n",
    "            row['is_remote'],\n",
    "            row['description'],\n",
    "            row['company_url'],\n",
    "            row['company_logo'],\n",
    "            np.array(get_embeddings(row['description']))  # Assuming 'embeddings' is a column with vector data\n",
    "        )\n",
    "        for index, row in jobs.iterrows()\n",
    "    ]\n",
    "\n",
    "    # Use execute_values to perform batch insertion\n",
    "    execute_values(\n",
    "        cur,\n",
    "        \"\"\"\n",
    "        INSERT INTO embeddings (site, job_url, title, company, location, date_posted, interval, min_amount, max_amount, currency, is_remote, description, company_url, company_logo, embedding)\n",
    "        VALUES %s\n",
    "        \"\"\",\n",
    "        data_list\n",
    "    )\n",
    "    # Commit after we insert all embeddings\n",
    "    connection.commit()"
   ]
  },
  {
   "cell_type": "code",
   "execution_count": 15,
   "metadata": {},
   "outputs": [
    {
     "name": "stderr",
     "output_type": "stream",
     "text": [
      "2024-11-12 16:13:26,350 - INFO - JobSpy:Indeed - search page: 1 / 1\n",
      "2024-11-12 16:13:26,353 - INFO - JobSpy:LinkedIn - search page: 1 / 2\n",
      "2024-11-12 16:13:27,708 - INFO - JobSpy:ZipRecruiter - search page: 1 / 1\n",
      "2024-11-12 16:13:28,058 - ERROR - JobSpy:ZipRecruiter - ZipRecruiter response status code 403 with response: {\"request_id\":\"CFRAY:8e169b97adca8d53-IAD\",\"error_code\":\"geoblocked-gdpr\",\"status_code\":403,\"error_message\":\"This app is not available in the European Union, which enforces the General Data Protection Regulation (GDPR). Because of this regulation, ZipRecruiter cannot provide access at this time.\"}\n",
      "2024-11-12 16:13:28,061 - INFO - JobSpy:ZipRecruiter - finished scraping\n",
      "2024-11-12 16:13:28,641 - INFO - JobSpy:Glassdoor - search page: 1 / 1\n",
      "2024-11-12 16:13:29,373 - INFO - JobSpy:Indeed - finished scraping\n",
      "2024-11-12 16:13:31,443 - INFO - JobSpy:Glassdoor - finished scraping\n",
      "2024-11-12 16:13:59,036 - ERROR - JobSpy:LinkedIn - LinkedIn: HTTPSConnectionPool(host='www.linkedin.com', port=443): Max retries exceeded with url: /jobs-guest/jobs/api/seeMoreJobPostings/search?keywords=software+engineer&location=San+Francisco&distance=50&pageNum=0&start=0&f_TPR=r259200 (Caused by ResponseError('too many 429 error responses'))\n",
      "2024-11-12 16:13:59,038 - INFO - JobSpy:Linkedin - finished scraping\n",
      "\u001b[32m2024-11-12 16:13:59.221\u001b[0m | \u001b[1mINFO    \u001b[0m | \u001b[36m__main__\u001b[0m:\u001b[36metl\u001b[0m:\u001b[36m12\u001b[0m - \u001b[1m(40, 28)\u001b[0m\n"
     ]
    }
   ],
   "source": [
    "etl()"
   ]
  },
  {
   "cell_type": "code",
   "execution_count": null,
   "metadata": {},
   "outputs": [],
   "source": []
  }
 ],
 "metadata": {
  "kernelspec": {
   "display_name": "recommend_job_prj",
   "language": "python",
   "name": "python3"
  },
  "language_info": {
   "codemirror_mode": {
    "name": "ipython",
    "version": 3
   },
   "file_extension": ".py",
   "mimetype": "text/x-python",
   "name": "python",
   "nbconvert_exporter": "python",
   "pygments_lexer": "ipython3",
   "version": "3.11.10"
  }
 },
 "nbformat": 4,
 "nbformat_minor": 2
}
